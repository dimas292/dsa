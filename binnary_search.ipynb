{
  "nbformat": 4,
  "nbformat_minor": 0,
  "metadata": {
    "colab": {
      "provenance": [],
      "authorship_tag": "ABX9TyNXbkZ2wkFzU+NBUfaMNxuX",
      "include_colab_link": true
    },
    "kernelspec": {
      "name": "python3",
      "display_name": "Python 3"
    },
    "language_info": {
      "name": "python"
    }
  },
  "cells": [
    {
      "cell_type": "markdown",
      "metadata": {
        "id": "view-in-github",
        "colab_type": "text"
      },
      "source": [
        "<a href=\"https://colab.research.google.com/github/dimas292/dsa/blob/main/binnary_search.ipynb\" target=\"_parent\"><img src=\"https://colab.research.google.com/assets/colab-badge.svg\" alt=\"Open In Colab\"/></a>"
      ]
    },
    {
      "cell_type": "code",
      "execution_count": 20,
      "metadata": {
        "colab": {
          "base_uri": "https://localhost:8080/"
        },
        "id": "36GF-DnQEGmK",
        "outputId": "ec2b7fff-fde8-4df6-c05f-2e48e57c29c1"
      },
      "outputs": [
        {
          "output_type": "stream",
          "name": "stdout",
          "text": [
            "50\n"
          ]
        }
      ],
      "source": [
        "import math\n",
        "\n",
        "\n",
        "print(math.ceil(49.55))"
      ]
    },
    {
      "cell_type": "code",
      "source": [
        "def test_locate(card, query, mid) :\n",
        "  mid_number = card[mid]\n",
        "  print(\"mid\", mid, \"mid number\", card[mid])\n",
        "  if mid_number == query :\n",
        "    if mid-1 >= 0 and card[mid-1] == query :\n",
        "      return \"left\"\n",
        "    else :\n",
        "      return \"found\"\n",
        "  elif mid_number > query :\n",
        "    return \"left\"\n",
        "  else :\n",
        "    return \"right\""
      ],
      "metadata": {
        "id": "fa0X-Y9jMUmX"
      },
      "execution_count": 21,
      "outputs": []
    },
    {
      "cell_type": "code",
      "source": [
        "def locate_card(card, query):\n",
        "  lo, hi = 0, len(card) - 1\n",
        "\n",
        "  while lo <= hi:\n",
        "    print(\"lo\", lo, \"hi\", hi)\n",
        "    mid = (lo + hi) // 2\n",
        "    result = test_locate(card, query, mid)\n",
        "\n",
        "    if result == \"found\":\n",
        "      return mid\n",
        "    elif result == \"left\":\n",
        "      hi = mid - 1\n",
        "    elif result == \"right\":\n",
        "      lo = mid + 1\n",
        "  return -1\n",
        "\n",
        "\n",
        ""
      ],
      "metadata": {
        "id": "iG7gzIWmIVYJ"
      },
      "execution_count": 22,
      "outputs": []
    },
    {
      "cell_type": "code",
      "source": [
        "card = [1, 2, 3, 4, 5, 6, 7, 8, 10]\n",
        "query = 8\n",
        "\n",
        "result = locate_card(card, query)\n",
        "print(result)"
      ],
      "metadata": {
        "colab": {
          "base_uri": "https://localhost:8080/"
        },
        "id": "F86_t_ZzPKEs",
        "outputId": "63b917c0-c3e7-44d5-a417-f14ba7b6af3a"
      },
      "execution_count": 24,
      "outputs": [
        {
          "output_type": "stream",
          "name": "stdout",
          "text": [
            "lo 0 hi 8\n",
            "mid 4 mid number 5\n",
            "lo 5 hi 8\n",
            "mid 6 mid number 7\n",
            "lo 7 hi 8\n",
            "mid 7 mid number 8\n",
            "7\n"
          ]
        }
      ]
    }
  ]
}